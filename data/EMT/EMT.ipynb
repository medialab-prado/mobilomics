{
 "cells": [
  {
   "cell_type": "code",
   "execution_count": 14,
   "metadata": {
    "collapsed": true
   },
   "outputs": [],
   "source": [
    "import pandas as pd"
   ]
  },
  {
   "cell_type": "code",
   "execution_count": 15,
   "metadata": {
    "collapsed": false
   },
   "outputs": [],
   "source": [
    "df = pd.read_csv('demanda_fixed.csv.gz',sep =';',compression='gzip')\n",
    "#termina con unas lineas de log que hay que quitar\n",
    "df = df.dropna()"
   ]
  },
  {
   "cell_type": "code",
   "execution_count": 41,
   "metadata": {
    "collapsed": false
   },
   "outputs": [
    {
     "data": {
      "text/html": [
       "<div>\n",
       "<table border=\"1\" class=\"dataframe\">\n",
       "  <thead>\n",
       "    <tr style=\"text-align: right;\">\n",
       "      <th></th>\n",
       "      <th>FECHA</th>\n",
       "      <th>linea</th>\n",
       "      <th>cochelogico</th>\n",
       "      <th>parada</th>\n",
       "      <th>instante</th>\n",
       "      <th>viajeros</th>\n",
       "      <th>nombre</th>\n",
       "      <th>latitude</th>\n",
       "      <th>longitude</th>\n",
       "    </tr>\n",
       "  </thead>\n",
       "  <tbody>\n",
       "    <tr>\n",
       "      <th>0</th>\n",
       "      <td>20170920</td>\n",
       "      <td>1</td>\n",
       "      <td>1</td>\n",
       "      <td>718</td>\n",
       "      <td>2017-09-20 06:31:13.000</td>\n",
       "      <td>1</td>\n",
       "      <td>CARTAGENA</td>\n",
       "      <td>40.439570</td>\n",
       "      <td>-3.673786</td>\n",
       "    </tr>\n",
       "    <tr>\n",
       "      <th>1</th>\n",
       "      <td>20170920</td>\n",
       "      <td>1</td>\n",
       "      <td>1</td>\n",
       "      <td>722</td>\n",
       "      <td>2017-09-20 06:32:26.000</td>\n",
       "      <td>1</td>\n",
       "      <td>CARTAGENA-BEJAR</td>\n",
       "      <td>40.437135</td>\n",
       "      <td>-3.671116</td>\n",
       "    </tr>\n",
       "    <tr>\n",
       "      <th>2</th>\n",
       "      <td>20170920</td>\n",
       "      <td>1</td>\n",
       "      <td>1</td>\n",
       "      <td>722</td>\n",
       "      <td>2017-09-20 06:32:28.000</td>\n",
       "      <td>1</td>\n",
       "      <td>CARTAGENA-BEJAR</td>\n",
       "      <td>40.437135</td>\n",
       "      <td>-3.671116</td>\n",
       "    </tr>\n",
       "    <tr>\n",
       "      <th>3</th>\n",
       "      <td>20170920</td>\n",
       "      <td>1</td>\n",
       "      <td>1</td>\n",
       "      <td>2307</td>\n",
       "      <td>2017-09-20 06:34:11.000</td>\n",
       "      <td>1</td>\n",
       "      <td>PLAZA DE SAN CAYETANO</td>\n",
       "      <td>40.433904</td>\n",
       "      <td>-3.670554</td>\n",
       "    </tr>\n",
       "    <tr>\n",
       "      <th>4</th>\n",
       "      <td>20170920</td>\n",
       "      <td>1</td>\n",
       "      <td>1</td>\n",
       "      <td>451</td>\n",
       "      <td>2017-09-20 06:43:16.000</td>\n",
       "      <td>1</td>\n",
       "      <td>METRO SERRANO</td>\n",
       "      <td>40.426055</td>\n",
       "      <td>-3.687923</td>\n",
       "    </tr>\n",
       "  </tbody>\n",
       "</table>\n",
       "</div>"
      ],
      "text/plain": [
       "      FECHA linea cochelogico  parada                 instante  viajeros  \\\n",
       "0  20170920     1           1     718  2017-09-20 06:31:13.000         1   \n",
       "1  20170920     1           1     722  2017-09-20 06:32:26.000         1   \n",
       "2  20170920     1           1     722  2017-09-20 06:32:28.000         1   \n",
       "3  20170920     1           1    2307  2017-09-20 06:34:11.000         1   \n",
       "4  20170920     1           1     451  2017-09-20 06:43:16.000         1   \n",
       "\n",
       "                  nombre   latitude  longitude  \n",
       "0              CARTAGENA  40.439570  -3.673786  \n",
       "1        CARTAGENA-BEJAR  40.437135  -3.671116  \n",
       "2        CARTAGENA-BEJAR  40.437135  -3.671116  \n",
       "3  PLAZA DE SAN CAYETANO  40.433904  -3.670554  \n",
       "4          METRO SERRANO  40.426055  -3.687923  "
      ]
     },
     "execution_count": 41,
     "metadata": {},
     "output_type": "execute_result"
    }
   ],
   "source": [
    "df.head()"
   ]
  },
  {
   "cell_type": "code",
   "execution_count": 23,
   "metadata": {
    "collapsed": false
   },
   "outputs": [],
   "source": [
    "lineas = df['linea'].unique()"
   ]
  },
  {
   "cell_type": "code",
   "execution_count": 48,
   "metadata": {
    "collapsed": false
   },
   "outputs": [
    {
     "data": {
      "text/plain": [
       "array([  718.,   722.,  2307.,   451.,    69.,  5135.,  5137.,  3687.,\n",
       "         737.,   193.,   164.,   424.,   426.,   727.,  2304.,   273.,\n",
       "         716.,   730.,   732.,   449.,   161.,   166.,   168.,   170.,\n",
       "         734.,  4021.,  4514.,  4022.,   173.,   169.,   731.,   729.,\n",
       "         721.,   725.,   728.,   733.,   735.,  5138.,   162.,   425.,\n",
       "         717.,   738.,   736.,  4816.,   726.,   171.,   167.,    70.,\n",
       "         172.,   423.,   452.,  1750.,   743.,  2355.,   715.])"
      ]
     },
     "execution_count": 48,
     "metadata": {},
     "output_type": "execute_result"
    }
   ],
   "source": [
    "df[df['linea'] == 1]['parada'].unique()"
   ]
  },
  {
   "cell_type": "code",
   "execution_count": null,
   "metadata": {
    "collapsed": true
   },
   "outputs": [],
   "source": []
  }
 ],
 "metadata": {
  "kernelspec": {
   "display_name": "Python 2",
   "language": "python",
   "name": "python2"
  },
  "language_info": {
   "codemirror_mode": {
    "name": "ipython",
    "version": 2
   },
   "file_extension": ".py",
   "mimetype": "text/x-python",
   "name": "python",
   "nbconvert_exporter": "python",
   "pygments_lexer": "ipython2",
   "version": "2.7.11"
  }
 },
 "nbformat": 4,
 "nbformat_minor": 0
}
